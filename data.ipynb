{
 "cells": [
  {
   "cell_type": "code",
   "execution_count": 31,
   "metadata": {},
   "outputs": [],
   "source": [
    "import csv\n",
    "import psycopg2\n",
    "import psycopg2.extras\n",
    "import glob"
   ]
  },
  {
   "cell_type": "code",
   "execution_count": null,
   "metadata": {},
   "outputs": [],
   "source": []
  },
  {
   "cell_type": "code",
   "execution_count": 32,
   "metadata": {},
   "outputs": [],
   "source": [
    "def connectDB():\n",
    "    conn = psycopg2.connect(host=\"localhost\", dbname=\"postgres\", user='postgres', port=5432, password='1111')\n",
    "    return conn.cursor(cursor_factory=psycopg2.extras.DictCursor)"
   ]
  },
  {
   "cell_type": "code",
   "execution_count": 33,
   "metadata": {},
   "outputs": [],
   "source": [
    "def conDB():\n",
    "    con = psycopg2.connect(host=\"localhost\", dbname=\"postgres\", user='postgres', port=5432, password='1111')\n",
    "    return con"
   ]
  },
  {
   "cell_type": "code",
   "execution_count": 34,
   "metadata": {},
   "outputs": [],
   "source": [
    "def getSchemaList():\n",
    "        sql=\"\"\"SELECT SCHEMA_NAME FROM information_schema.schemata\n",
    " WHERE SCHEMA_NAME NOT IN ('information_schema','public','pg_catalog','pg_toast_temp_1','pg_temp_1','pg_toast')\"\"\"\n",
    "        conn = conDB()\n",
    "        cur = conn.cursor(cursor_factory=psycopg2.extras.DictCursor)\n",
    "        cur.execute(sql)\n",
    "        rows = cur.fetchall()\n",
    "        cur.close()\n",
    "        conn.close()\n",
    "        return rows"
   ]
  },
  {
   "cell_type": "code",
   "execution_count": 35,
   "metadata": {},
   "outputs": [],
   "source": [
    "def createTables():\n",
    "        commands = (\"DROP TABLE IF EXISTS Data_Dictionary\",\n",
    "                \"\"\"\n",
    "            CREATE TABLE Data_Dictionary(dd_Schema_Name VARCHAR,dd_Table_Name VARCHAR,dd_Column_Name VARCHAR,\n",
    "dd_Data_Type VARCHAR,dd_Data_Length INTEGER,is_Nullable VARCHAR,dd_Default_Value VARCHAR,\n",
    "is_PK VARCHAR,dd_Units VARCHAR,dd_Constraints VARCHAR,FK_Table VARCHAR,FK_Column VARCHAR,\n",
    "is_unique VARCHAR,dd_Description Varchar)\"\"\" )\n",
    "        conn = None\n",
    "        try:\n",
    "            conn = conDB()\n",
    "            cur = conn.cursor(cursor_factory=psycopg2.extras.DictCursor)\n",
    "            for command in commands:\n",
    "                cur.execute(command)\n",
    "            cur.close()\n",
    "            conn.commit()\n",
    "        except (Exception, psycopg2.DatabaseError) as error:\n",
    "            print(error)\n",
    "        finally:\n",
    "            if conn is not None:\n",
    "                conn.close() "
   ]
  },
  {
   "cell_type": "code",
   "execution_count": 36,
   "metadata": {},
   "outputs": [],
   "source": [
    "def startEngine(SchemaName):\n",
    "        conn = conDB()\n",
    "        cur = conn.cursor(cursor_factory=psycopg2.extras.DictCursor)\n",
    "        table_names = getTableNames(SchemaName)\n",
    "        content = []\n",
    "        DescList=['primary key id','name of it','value of it','is active or not','1,2,3,4 priority level','user id','date when created','date when modified']\n",
    "        for name in table_names:\n",
    "                info_one_table = getInformationSchemasFromOneTable(name,SchemaName)\n",
    "                for row_index, row in enumerate(info_one_table):\n",
    "                        row_data = []\n",
    "                        row_data.append(SchemaName)\n",
    "                        row_data.append(name)\n",
    "                        for item in row:\n",
    "                                row_data.append(item)\n",
    "\n",
    "                        if isPK(name, row[0],SchemaName) == True: \n",
    "                                row_data.append('Y')\n",
    "                        else: row_data.append('')\n",
    "                        row_data.append('')\n",
    "                        row_data.append('')\n",
    "                        fkdata = getFKs(name, row[0],SchemaName)\n",
    "                        if fkdata!=\"\":\n",
    "                             fk_table,fk_col=fkdata.split()\n",
    "                             row_data.append(fk_table)\n",
    "                             row_data.append(fk_col)\n",
    "                        else:\n",
    "                             row_data.append('')\n",
    "                             row_data.append('')\n",
    "\n",
    "                        if isUnique(name, row[0],SchemaName) == True: \n",
    "                                row_data.append('Y')\n",
    "                        else: row_data.append('')\n",
    "                        row_data.append(DescList[row_index])\n",
    "                        print(row_data)\n",
    "                        print(row_index)\n",
    "                        content.append(tuple(row_data))\n",
    "                sql=\"\"\"INSERT INTO data_dictionary (dd_Schema_Name,dd_Table_Name,dd_Column_Name,dd_Data_Type,dd_Data_Length,is_Nullable,dd_Default_Value,\n",
    "is_PK,dd_Units,dd_Constraints,FK_Table,FK_Column,is_unique,dd_Description)\n",
    "                VALUES(%s,%s,%s,%s,%s,%s,%s,%s,%s,%s,%s,%s,%s,%s)\"\"\"\n",
    "                cur.executemany(sql,content)\n",
    "                conn.commit()\n",
    "                content = []\n",
    "          \n",
    "        cur.close()        "
   ]
  },
  {
   "cell_type": "code",
   "execution_count": 37,
   "metadata": {},
   "outputs": [],
   "source": [
    "def getInformationSchemasFromOneTable(table_name,SchemaName):\n",
    "    cur = connectDB()\n",
    "    cur.execute(\"SELECT column_name, data_type, character_maximum_length, is_nullable, column_default FROM INFORMATION_SCHEMA.COLUMNS \\\n",
    "                    WHERE table_name = '\" + table_name + \"' AND table_schema='\"+SchemaName+\"';\")\n",
    "    rows = cur.fetchall()\n",
    "    return rows"
   ]
  },
  {
   "cell_type": "code",
   "execution_count": 38,
   "metadata": {},
   "outputs": [],
   "source": [
    "def getTableNames(SchemaName):\n",
    "    cur = connectDB()\n",
    "    cur.execute(\"SELECT table_name FROM information_schema.tables WHERE table_schema='\"+SchemaName+\"' AND table_type='BASE TABLE' ORDER BY table_name\")\n",
    "    rows = cur.fetchall()\n",
    "\n",
    "    ret = []\n",
    "    for row in rows:\n",
    "        ret.append(row[0])\n",
    "    \n",
    "    return ret"
   ]
  },
  {
   "cell_type": "code",
   "execution_count": 39,
   "metadata": {},
   "outputs": [],
   "source": [
    "def getFKs(table_name, column_name,SchemaName):\n",
    "    cur = connectDB()\n",
    "    cur.execute(\"SELECT kcu.column_name, ccu.table_name AS foreign_table_name, ccu.column_name AS foreign_column_name \\\n",
    "                    FROM information_schema.table_constraints AS tc JOIN information_schema.key_column_usage AS kcu ON tc.constraint_name = kcu.constraint_name \\\n",
    "                    JOIN information_schema.constraint_column_usage AS ccu ON ccu.constraint_name = tc.constraint_name \\\n",
    "                    WHERE tc.constraint_type = 'FOREIGN KEY' AND tc.table_name='\" + table_name + \"' AND tc.table_schema='\"+SchemaName+\"';\")\n",
    "    rows = cur.fetchall()\n",
    "    ret = \"\"\n",
    "    for row in rows:\n",
    "        if row[0] == column_name:\n",
    "            ret = row[1] + \" \" + row[2]\n",
    "    return ret"
   ]
  },
  {
   "cell_type": "code",
   "execution_count": 40,
   "metadata": {},
   "outputs": [],
   "source": [
    "def isPK(table_name, column_name,SchemaName):\n",
    "    cur = connectDB()\n",
    "    cur.execute(\"SELECT a.attname, format_type(a.atttypid, a.atttypmod) AS data_type FROM  pg_index i \\\n",
    "                    JOIN  pg_attribute a ON a.attrelid = i.indrelid \\\n",
    "                    AND a.attnum = ANY(i.indkey) WHERE  i.indrelid = '\"+SchemaName+\".\" + table_name + \"'::regclass AND i.indisprimary;\")\n",
    "    rows = cur.fetchall()\n",
    "    for row in rows:\n",
    "        if row[0] == column_name:\n",
    "            return True\n",
    "    return False"
   ]
  },
  {
   "cell_type": "code",
   "execution_count": 41,
   "metadata": {},
   "outputs": [],
   "source": [
    "def isUnique(table_name, column_name,SchemaName):\n",
    "    cur = connectDB()\n",
    "    cur.execute(\"SELECT column_name FROM information_schema.table_constraints tc right \\\n",
    "                    JOIN information_schema.constraint_column_usage ccu \\\n",
    "                    ON tc.constraint_catalog = ccu.constraint_catalog \\\n",
    "                    AND tc.constraint_schema = ccu.constraint_schema \\\n",
    "                    AND tc.constraint_name = ccu.constraint_name and ccu.table_name in ('\" + table_name + \"') WHERE lower(tc.constraint_type) in ('unique')\\\n",
    "                    AND tc.table_schema='\"+SchemaName+\"';\")\n",
    "    rows = cur.fetchall()\n",
    "    for row in rows:\n",
    "        if row[0] == column_name:\n",
    "            return True\n",
    "    return False"
   ]
  },
  {
   "cell_type": "code",
   "execution_count": 42,
   "metadata": {},
   "outputs": [],
   "source": [
    "createTables()"
   ]
  },
  {
   "cell_type": "code",
   "execution_count": 43,
   "metadata": {},
   "outputs": [
    {
     "name": "stdout",
     "output_type": "stream",
     "text": [
      "['autho', 'user', 'user_id', 'integer', None, 'NO', \"nextval('autho.user_user_id_seq'::regclass)\", 'Y', '', '', '', '', '', 'primary key id']\n",
      "0\n",
      "['lookup', 'classification', 'lu_id', 'integer', None, 'NO', None, 'Y', '', '', '', '', '', 'primary key id']\n",
      "0\n",
      "['lookup', 'classification', 'lu_name', 'character varying', 50, 'NO', None, '', '', '', '', '', '', 'name of it']\n",
      "1\n",
      "['lookup', 'classification', 'lu_value', 'character varying', 50, 'NO', None, '', '', '', '', '', 'Y', 'value of it']\n",
      "2\n",
      "['lookup', 'classification', 'is_active', 'boolean', None, 'NO', None, '', '', '', '', '', '', 'is active or not']\n",
      "3\n",
      "['lookup', 'classification', 'default_priority', 'smallint', None, 'NO', None, '', '', '', '', '', '', '1,2,3,4 priority level']\n",
      "4\n",
      "['lookup', 'classification', 'create_user_id', 'integer', None, 'NO', None, '', '', '', 'user', 'user_id', '', 'user id']\n",
      "5\n",
      "['lookup', 'classification', 'create_date', 'timestamp without time zone', None, 'NO', \"'2019-05-11 21:45:10.515089'::timestamp without time zone\", '', '', '', '', '', '', 'date when created']\n",
      "6\n",
      "['lookup', 'classification', 'modify_date', 'timestamp without time zone', None, 'YES', None, '', '', '', '', '', '', 'date when modified']\n",
      "7\n"
     ]
    }
   ],
   "source": [
    "schemas = getSchemaList()\n",
    "for s in schemas:\n",
    "     startEngine(s[0])"
   ]
  },
  {
   "cell_type": "code",
   "execution_count": null,
   "metadata": {
    "collapsed": true
   },
   "outputs": [],
   "source": []
  }
 ],
 "metadata": {
  "kernelspec": {
   "display_name": "Python 3",
   "language": "python",
   "name": "python3"
  },
  "language_info": {
   "codemirror_mode": {
    "name": "ipython",
    "version": 3
   },
   "file_extension": ".py",
   "mimetype": "text/x-python",
   "name": "python",
   "nbconvert_exporter": "python",
   "pygments_lexer": "ipython3",
   "version": "3.7.3"
  }
 },
 "nbformat": 4,
 "nbformat_minor": 2
}
